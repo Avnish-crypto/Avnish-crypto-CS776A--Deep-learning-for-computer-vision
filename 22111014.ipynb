{
 "cells": [
  {
   "attachments": {},
   "cell_type": "markdown",
   "id": "1de3d0b7",
   "metadata": {},
   "source": [
    "# References for Understanding the concepts of Neural Network- \n",
    "https://towardsdatascience.com/the-complete-guide-to-neural-networks-multinomial-classification-4fe88bde7839 <br>\n",
    "https://stackabuse.com/creating-a-neural-network-from-scratch-in-python-multi-class-classification/  <br>\n",
    "https://medium.com/@udaybhaskarpaila/multilayered-neural-network-from-scratch-using-python-c0719a646855"
   ]
  },
  {
   "attachments": {},
   "cell_type": "markdown",
   "id": "38ffa6bf",
   "metadata": {
    "id": "38ffa6bf"
   },
   "source": [
    "# Assignment I: CS776A - Deep Learning for Computer Vision\n",
    "# \n"
   ]
  },
  {
   "cell_type": "code",
   "execution_count": 1,
   "id": "1dd8863c",
   "metadata": {
    "id": "1dd8863c"
   },
   "outputs": [],
   "source": [
    "import cv2\n",
    "import math\n",
    "import tarfile\n",
    "import pickle\n",
    "import random\n",
    "import numpy as np\n",
    "import matplotlib.pyplot as plt\n",
    "from codefiles import feature_extractor"
   ]
  },
  {
   "attachments": {},
   "cell_type": "markdown",
   "id": "2e52bb1d",
   "metadata": {
    "id": "2e52bb1d"
   },
   "source": [
    "## 1) - We have to download and load the cifar10 dataset"
   ]
  },
  {
   "cell_type": "code",
   "execution_count": 2,
   "id": "292bf2b5",
   "metadata": {
    "id": "292bf2b5"
   },
   "outputs": [],
   "source": [
    "class load_data():\n",
    "    def unpickle(self,file):\n",
    "        '''\n",
    "        The unpickle function loads data from the input pickle files\n",
    "        '''\n",
    "        with open(file, 'rb') as fo:\n",
    "            dict = pickle.load(fo, encoding='bytes')\n",
    "        return dict\n",
    "\n",
    "    def load_cifar10(self,filepath):\n",
    "        '''\n",
    "        This function loads the CIFAR10 data and returns the following:\n",
    "            train_data: (50000, 3, 32, 32) numpy array consisting of training images\n",
    "            train_labels: (50000, 10) numpy array consisting of one_hot_encoded labels\n",
    "            test_data: (10000, 3, 32, 32) numpy array consisting of test data images\n",
    "            test_labels: (10000, 10) numpy array consisting of one_hot_encoded labels\n",
    "        '''\n",
    "        \n",
    "        # Extract the tar file\n",
    "        tar = tarfile.open(filepath, \"r:gz\")\n",
    "        tar.extractall()\n",
    "        tar.close()\n",
    "        \n",
    "        # Load the metadata using unpickle\n",
    "        batches_meta = self.unpickle('cifar-10-batches-py/batches.meta')\n",
    "\n",
    "        # Extract the label_names from the metadata dictionary\n",
    "        label_names = batches_meta[b'label_names']\n",
    "\n",
    "        # Load all the five training batches and test batch using unpickle\n",
    "        for i in range(1, 6):\n",
    "            data_batch = self.unpickle('cifar-10-batches-py/data_batch_'+str(i))\n",
    "            if i==1:\n",
    "                train_data = np.array(data_batch[b'data'])\n",
    "                train_labels = np.array(data_batch[b'labels'])\n",
    "            else:\n",
    "                train_data = np.vstack((train_data, data_batch[b'data']))\n",
    "                train_labels = np.concatenate([train_labels, data_batch[b'labels']])\n",
    "        test_data = self.unpickle('cifar-10-batches-py/test_batch')[b'data']\n",
    "        test_labels = self.unpickle('cifar-10-batches-py/test_batch')[b'labels']\n",
    "        \n",
    "        # Reshape the train and test data\n",
    "        train_data = train_data.reshape((len(train_data), 3, 32, 32))\n",
    "        test_data = test_data.reshape((len(test_data), 3, 32, 32))\n",
    "        train_labels = np.array(train_labels)\n",
    "        test_labels = np.array(test_labels)\n",
    "        \n",
    "        return train_data, train_labels, test_data, test_labels"
   ]
  },
  {
   "attachments": {},
   "cell_type": "markdown",
   "id": "17bc57ef",
   "metadata": {},
   "source": [
    "# Load train and test data of CIFAR10"
   ]
  },
  {
   "attachments": {},
   "cell_type": "markdown",
   "id": "b19291fb",
   "metadata": {},
   "source": [
    "To run the below cell we should have the cifar file but due to limit on upload on helloiitk portal. We cannot upload the cifar file. So, we are using pickle file to load essential data."
   ]
  },
  {
   "cell_type": "code",
   "execution_count": 47,
   "id": "68c860fc",
   "metadata": {},
   "outputs": [
    {
     "name": "stdout",
     "output_type": "stream",
     "text": [
      "(50000,) (10000,)\n"
     ]
    }
   ],
   "source": [
    "RUN = False  # set it to True if have access to cifar file.\n",
    "if RUN:\n",
    "    object = load_data()\n",
    "    unaugmented_train_data, unaugmented_train_labels, unaugmented_test_data, unaugmented_test_labels = object.load_cifar10('cifar-10-python.tar.gz')\n",
    "else:\n",
    "    with open('unaugmented_train_labels.pkl', 'rb') as file:\n",
    "        unaugmented_train_labels = pickle.load(file)\n",
    "    with open('unaugmented_test_labels.pkl', 'rb') as file:\n",
    "        unaugmented_test_labels = pickle.load(file)\n",
    "    print(unaugmented_train_labels.shape,unaugmented_test_labels.shape)"
   ]
  },
  {
   "attachments": {},
   "cell_type": "markdown",
   "id": "b60eb79a",
   "metadata": {
    "id": "b60eb79a"
   },
   "source": [
    "## 2) - We have to implement Stated Transformations"
   ]
  },
  {
   "attachments": {},
   "cell_type": "markdown",
   "id": "f000efee",
   "metadata": {
    "id": "f000efee"
   },
   "source": [
    "(a) Image_enhancement"
   ]
  },
  {
   "cell_type": "code",
   "execution_count": null,
   "id": "39fe1b6c",
   "metadata": {},
   "outputs": [],
   "source": [
    "def image_enhancement(img):\n",
    "    channels, height , width = img.shape[0] , img.shape[1] , img.shape[2]\n",
    "    for _ in range(channels):\n",
    "        # getting min and max value of a channel\n",
    "        mx = img[_].max()\n",
    "        mn = img[_].min()\n",
    "        for i in range(height):\n",
    "            for j in range(width):\n",
    "                img[_][i][j] = (img[_][i][j] - mn)/(mx-mn) * 255\n",
    "\n",
    "\n",
    "    return np.transpose(img, (1, 2, 0)) #returning transposed image"
   ]
  },
  {
   "attachments": {},
   "cell_type": "markdown",
   "id": "90161811",
   "metadata": {
    "id": "90161811"
   },
   "source": [
    "(b) Image Posterization"
   ]
  },
  {
   "cell_type": "code",
   "execution_count": 5,
   "id": "a80c75de",
   "metadata": {
    "id": "a80c75de"
   },
   "outputs": [],
   "source": [
    "def image_posterization(img):\n",
    "    mx ,mn = 225 , 3\n",
    "    r = mx-mn\n",
    "    divider = 255/r\n",
    "    channels , height , width = img.shape[0] , img.shape[1] , img.shape[2]\n",
    "    for i in range(channels):\n",
    "        for j in range(height):\n",
    "            for k in range(width):\n",
    "                img[i][j][k] = img[i][j][k] / divider\n",
    "                img[i][j][k] = img[i][j][k] + mn\n",
    "                # checking corner cases\n",
    "                if img[i][j][k] > 255:\n",
    "                    img[i][j][k] = 255\n",
    "                elif img[i][j][k] < 0:\n",
    "                    img[i][j][k] = 0\n",
    "    return np.transpose(img,(1,2,0))"
   ]
  },
  {
   "attachments": {},
   "cell_type": "markdown",
   "id": "f4e31c28",
   "metadata": {
    "id": "f4e31c28"
   },
   "source": [
    "(C) Random Rotate"
   ]
  },
  {
   "cell_type": "code",
   "execution_count": 6,
   "id": "a1dab56d",
   "metadata": {
    "id": "a1dab56d"
   },
   "outputs": [],
   "source": [
    "def random_rotate(img):\n",
    "    img = np.transpose(img, (1, 2, 0)) # transposing so that the channels be at the last\n",
    "    height, width = img.shape[0], img.shape[1]\n",
    "    \n",
    "    # Select a random angle value between -180 to 180 degrees and convert it into radians  \n",
    "    angle = math.radians(random.randint(-180, 180))  #inner random.randint function will return random values betweem -180 to 180 degrees.\n",
    "    sin, cos = math.sin(angle), math.cos(angle)\n",
    "    \n",
    "    Output_image = np.zeros_like(img) # initialization with zeros\n",
    "    \n",
    "    center_coordinate = int(height/2) # Centre pixel\n",
    "    \n",
    "    for i in range(height):\n",
    "        for j in range(width):\n",
    "            new_location = int(-(height-center_coordinate-j-1)*sin + (height-center_coordinate-i-1)*cos) , int((height-center_coordinate-j-1)*cos + (height-center_coordinate-i-1)*sin)   \n",
    "            new_location = center_coordinate - new_location[0], center_coordinate - new_location[1]\n",
    "            \n",
    "            # Checking if the modified pixel location lies within the range then assign the pixel value from the input image, else leave it as 0\n",
    "            if 0 <= new_location[0] < height and 0 <= new_location[1] < width and new_location[0] >= 0 and new_location[1] >= 0:\n",
    "                Output_image[new_location[0], new_location[1], :] = img[i, j, :] \n",
    "    return Output_image"
   ]
  },
  {
   "attachments": {},
   "cell_type": "markdown",
   "id": "b46af9af",
   "metadata": {
    "id": "b46af9af"
   },
   "source": [
    "(d) Contrast & Horizontal flipping"
   ]
  },
  {
   "cell_type": "code",
   "execution_count": 7,
   "id": "7313f406",
   "metadata": {
    "id": "7313f406"
   },
   "outputs": [],
   "source": [
    "def contrast_and_horizontal_flip(img):\n",
    "    \n",
    "\n",
    "    img = np.transpose(img, (1, 2, 0))\n",
    "    \n",
    "    # Select a random alpha in the range [0.5, 2.0]\n",
    "    alpha = random.uniform(0.5, 2.0)\n",
    "\n",
    "    # Copy the image to an Output_image variable and convert float values to int\n",
    "    Output_image = img.copy()\n",
    "    Output_image = np.float32(Output_image)\n",
    "\n",
    "    Output_image = alpha*(Output_image-128) + 128\n",
    "    Output_image[Output_image < 0], Output_image[Output_image > 255] = 0, 255  #Clipping the values\n",
    "    \n",
    "    # Horizontal flip with a probability 0.5.\n",
    "    # Select a random number between 0 and 1, and if the number is 1 then do horizontal flip\n",
    "    if(random.randint(0, 1) == 1):\n",
    "        Output_image = Output_image[:, ::-1, :]  # Keep the channels and height same, but flip the width\n",
    "    \n",
    "    Output_image = np.uint8(Output_image)\n",
    "    \n",
    "    return Output_image"
   ]
  },
  {
   "attachments": {},
   "cell_type": "markdown",
   "id": "ba3331ce",
   "metadata": {
    "id": "ba3331ce"
   },
   "source": [
    "### Testing the Tranformations"
   ]
  },
  {
   "attachments": {},
   "cell_type": "markdown",
   "id": "397d7120",
   "metadata": {},
   "source": [
    "## Dont execute the below cell as we dont have access to cifar file it will gonna throw error."
   ]
  },
  {
   "cell_type": "code",
   "execution_count": 44,
   "id": "9bfe3bab",
   "metadata": {
    "colab": {
     "base_uri": "https://localhost:8080/",
     "height": 468
    },
    "id": "9bfe3bab",
    "outputId": "ab62f25b-3a6b-4db4-ea88-28623ced4587"
   },
   "outputs": [
    {
     "name": "stdout",
     "output_type": "stream",
     "text": [
      "original Image\n"
     ]
    },
    {
     "data": {
      "image/png": "[encoded data removed]",
      "text/plain": [
       "<Figure size 432x288 with 1 Axes>"
      ]
     },
     "metadata": {
      "needs_background": "light"
     },
     "output_type": "display_data"
    },
    {
     "name": "stdout",
     "output_type": "stream",
     "text": [
      "Rotated Image\n"
     ]
    },
    {
     "data": {
      "image/png": "[encoded data removed]",
      "text/plain": [
       "<Figure size 432x288 with 1 Axes>"
      ]
     },
     "metadata": {
      "needs_background": "light"
     },
     "output_type": "display_data"
    },
    {
     "name": "stdout",
     "output_type": "stream",
     "text": [
      "Enhanced_image\n"
     ]
    },
    {
     "data": {
      "image/png": "[encoded data removed]",
      "text/plain": [
       "<Figure size 432x288 with 1 Axes>"
      ]
     },
     "metadata": {
      "needs_background": "light"
     },
     "output_type": "display_data"
    },
    {
     "name": "stdout",
     "output_type": "stream",
     "text": [
      "Posterized_image\n"
     ]
    },
    {
     "data": {
      "image/png": "[encoded data removed]",
      "text/plain": [
       "<Figure size 432x288 with 1 Axes>"
      ]
     },
     "metadata": {
      "needs_background": "light"
     },
     "output_type": "display_data"
    },
    {
     "name": "stdout",
     "output_type": "stream",
     "text": [
      "Constrasted and Horizontally Flipped Image\n"
     ]
    },
    {
     "data": {
      "image/png": "[encoded data removed]",
      "text/plain": [
       "<Figure size 432x288 with 1 Axes>"
      ]
     },
     "metadata": {
      "needs_background": "light"
     },
     "output_type": "display_data"
    }
   ],
   "source": [
    "# Test the above transformation functions\n",
    "\n",
    "pic = unaugmented_train_data[np.random.randint(0, len(unaugmented_train_data))]  #random image\n",
    "\n",
    "print(\"original Image\")\n",
    "plt.imshow(np.transpose(pic,(1,2,0)), interpolation='nearest')\n",
    "plt.show()\n",
    "\n",
    "print(\"Rotated Image\")\n",
    "img = random_rotate(pic)\n",
    "plt.imshow(img, interpolation='nearest')\n",
    "plt.show()\n",
    "\n",
    "print(\"Enhanced_image\")\n",
    "img = image_enhancement(pic)\n",
    "plt.imshow(img, interpolation='nearest')\n",
    "plt.show()\n",
    "\n",
    "print(\"Posterized_image\")\n",
    "img = image_posterization(pic)\n",
    "plt.imshow(img, interpolation='nearest')\n",
    "plt.show()\n",
    "\n",
    "print(\"Constrasted and Horizontally Flipped Image\")\n",
    "img = contrast_and_horizontal_flip(pic)\n",
    "plt.imshow(img, interpolation='nearest')\n",
    "plt.show()"
   ]
  },
  {
   "attachments": {},
   "cell_type": "markdown",
   "id": "cb84e0aa",
   "metadata": {
    "id": "cb84e0aa"
   },
   "source": [
    "## 3)- We have to form augmented data by applying above transformations on unaugmented data"
   ]
  },
  {
   "cell_type": "code",
   "execution_count": 48,
   "id": "89cfd8f9",
   "metadata": {
    "id": "89cfd8f9"
   },
   "outputs": [],
   "source": [
    "def augument_data(unaugmented_train_data):\n",
    "    '''\n",
    "    The following function augments the training data with the\n",
    "    additional transformed images.\n",
    "    '''\n",
    "    # We create an array to store the transformed images\n",
    "    transformed_data = np.zeros((len(unaugmented_train_data), 3, 32, 32))\n",
    "    \n",
    "    # Iterate over the images in training data and update our transformed_data array\n",
    "    for i in range(len(unaugmented_train_data)):\n",
    "        \n",
    "        # Choose a random number between 0-3 and apply one of the transformation\n",
    "        Choose = random.randint(0, 3)\n",
    "        \n",
    "        if Choose == 0 :\n",
    "            Output_image = random_rotate(unaugmented_train_data[i])\n",
    "        elif Choose == 1:\n",
    "            Output_image = image_enhancement(unaugmented_train_data[i])\n",
    "        elif Choose == 2:\n",
    "            Output_image = image_posterization(unaugmented_train_data[i])\n",
    "        else:\n",
    "            Output_image = contrast_and_horizontal_flip(unaugmented_train_data[i])\n",
    "        \n",
    "        # Shift image channels to the start so that image shape is now (3, 32, 32)\n",
    "        Output_image = np.transpose(Output_image, (2, 0, 1))\n",
    "        \n",
    "        # Update Output_image tranformed_train_data array with the transformed image\n",
    "        transformed_data[i] = Output_image\n",
    "    \n",
    "    # Append transformed train data to the original train data to make an augmented dataset\n",
    "    augmented_train_data = np.concatenate([unaugmented_train_data, transformed_data])\n",
    "\n",
    "    return augmented_train_data"
   ]
  },
  {
   "attachments": {},
   "cell_type": "markdown",
   "id": "e51e8dbd",
   "metadata": {},
   "source": [
    "By running the below cell we get our augmented data but it takes about 6 minutes to run ."
   ]
  },
  {
   "cell_type": "code",
   "execution_count": 49,
   "id": "a0a2be10",
   "metadata": {
    "id": "a0a2be10"
   },
   "outputs": [],
   "source": [
    "# Augment the training data with transformed images\n",
    "Run = False  # set to True to run the cell\n",
    "if Run:\n",
    "    augmented_train_data = augument_data(unaugmented_train_data)\n",
    "    augmented_test_data = augument_data(unaugmented_test_data)"
   ]
  },
  {
   "cell_type": "code",
   "execution_count": 50,
   "id": "a65124a1",
   "metadata": {},
   "outputs": [],
   "source": [
    "augmented_train_labels = np.concatenate([unaugmented_train_labels, unaugmented_train_labels])\n",
    "augmented_test_labels  =  np.concatenate([unaugmented_test_labels,unaugmented_test_labels])"
   ]
  },
  {
   "attachments": {},
   "cell_type": "markdown",
   "id": "1263f7b0",
   "metadata": {},
   "source": [
    "# 4)- We have to use Feature extractor file for getting 1-D Features Vectors of unaugmented and augmented data."
   ]
  },
  {
   "attachments": {},
   "cell_type": "markdown",
   "id": "3cadb3a4",
   "metadata": {
    "id": "3cadb3a4"
   },
   "source": [
    "Below is the code that we have used for getting the features vectors with instuctions that are asked in the Question. But, here we have set Run = False because it takes too much time to get the Feature Vectors of unaugmented and augmented. Here, we are loading a already featurized file because converting images to Feature Vectors takes a lot of time. Last time we run it and it takes about 2 hrs."
   ]
  },
  {
   "cell_type": "code",
   "execution_count": 57,
   "id": "4cd9686e",
   "metadata": {
    "id": "4cd9686e"
   },
   "outputs": [],
   "source": [
    "def resize(x):\n",
    "    '''\n",
    "    The following function resizes the input image from (32, 32, 3) to (224, 224, 3)\n",
    "    We use list comprehension to perform the resize operation of all the images in 'x'\n",
    "    Steps:\n",
    "        For all images in x:\n",
    "            1. Transpose the image to shape (32, 32, 3)\n",
    "            2. Resize the image to (224, 224, 3)\n",
    "            3. Re-transpose the image to shape (3, 224, 224)\n",
    "    '''\n",
    "\n",
    "    resized_x = np.array([np.transpose(cv2.resize(np.transpose(img, (1, 2, 0)), (224, 224)), (2, 0, 1)) for img in x])\n",
    "    \n",
    "    return resized_x\n",
    "\n",
    "def get_features(x, batch_size=100):\n",
    "    '''\n",
    "    The following function uses the BBResNet18 object to extract the features.\n",
    "    Since the data is very large, we pass the data in batches to the feature_extractor.\n",
    "    '''\n",
    "\n",
    "    # Calculate number of batches\n",
    "    batches = int(len(x) / batch_size)\n",
    "\n",
    "    print('Number of Batches: ', str(batches))\n",
    "    \n",
    "    # Create an object of BBResNet18 class\n",
    "    Object = feature_extractor.BBResNet18()\n",
    "    \n",
    "    for i in range(batches):\n",
    "        \n",
    "        # Resize the current batch\n",
    "        batch = x[i*batch_size:(i+1)*batch_size]\n",
    "        batch = resize(batch)\n",
    "\n",
    "        # Normalize the values in the batch\n",
    "        batch /= 255\n",
    "\n",
    "        # Convert datatype to float\n",
    "        batch = np.float32(batch)\n",
    "        \n",
    "        # Extract features using the feature_extraction function provided in assignment codefiles\n",
    "        if i == 0:\n",
    "            features = Object.feature_extraction(batch)\n",
    "        else:\n",
    "            features = np.append(features, Object.feature_extraction(batch), axis=0)\n",
    "        \n",
    "        print('Processing Batch No:', str(i+1))\n",
    "            \n",
    "    return features\n",
    "\n",
    "Run = False  # set Run = True if you want to run the below cell for feature extraction code.\n",
    "\n",
    "if Run:\n",
    "\n",
    "    augmented_train_data_features = get_features(augmented_train_data, 500)\n",
    "    np.save('augmented_train_data_features', augmented_train_data_features)\n",
    "    \n",
    "    # Extract the features of test data and save\n",
    "    augmented_test_data_features = get_features(np.float32(augmented_test_data), 500)\n",
    "    np.save('augmented_test_data_features', augmented_test_data_features)\n"
   ]
  },
  {
   "attachments": {},
   "cell_type": "markdown",
   "id": "82dcca6c",
   "metadata": {},
   "source": [
    "# We have used the above code for getting the Feature Vectors. Here, we are loading a already featurized file because converting images to Feature Vectors takes a lot of time. Last time we did it takes about 2 hrs."
   ]
  },
  {
   "cell_type": "code",
   "execution_count": 58,
   "id": "7628b631",
   "metadata": {
    "colab": {
     "base_uri": "https://localhost:8080/"
    },
    "id": "7628b631",
    "outputId": "77523659-f6a9-47e0-d023-29ca6f739647"
   },
   "outputs": [],
   "source": [
    "# Load the augmented_train_data_features from the saved file\n",
    "augmented_train_data_features = np.load('augmented_train_data_features.npy')\n",
    "\n",
    "# Load the test_data_features from the saved file\n",
    "augmented_test_data_features = np.load('augmented_test_data_features.npy')\n",
    "\n",
    "# First 50k samples belong to the original training set\n",
    "unaugmented_train_data_features = augmented_train_data_features[:50000]\n",
    "unaugmented_test_data_features = augmented_test_data_features[:10000]"
   ]
  },
  {
   "cell_type": "code",
   "execution_count": 59,
   "id": "e17a7243",
   "metadata": {},
   "outputs": [
    {
     "name": "stdout",
     "output_type": "stream",
     "text": [
      "Shape of augmented_train_data (100000, 512)\n",
      "shape of unaugmented_train_data (50000, 512)\n",
      "shape of augmneted_test_Data_features (20000, 512)\n",
      "shape of unaugmented_test_Data_features (10000, 512)\n"
     ]
    }
   ],
   "source": [
    "print(\"Shape of augmented_train_data\",augmented_train_data_features.shape)\n",
    "print(\"shape of unaugmented_train_data\",unaugmented_train_data_features.shape)\n",
    "print(\"shape of augmneted_test_Data_features\",augmented_test_data_features.shape)\n",
    "print(\"shape of unaugmented_test_Data_features\",unaugmented_test_data_features.shape)"
   ]
  },
  {
   "attachments": {},
   "cell_type": "markdown",
   "id": "189927f2",
   "metadata": {},
   "source": [
    "# Function for converting labels to one hot vectors"
   ]
  },
  {
   "cell_type": "code",
   "execution_count": 55,
   "id": "4689cf78",
   "metadata": {},
   "outputs": [],
   "source": [
    "def one_hot_encode(data, n_classes): \n",
    "    \n",
    "    encoded_labels = np.zeros((len(data), n_classes))\n",
    "    for i, x in enumerate(data):\n",
    "        encoded_labels[i][x] = 1\n",
    "    \n",
    "    return encoded_labels"
   ]
  },
  {
   "attachments": {},
   "cell_type": "markdown",
   "id": "a4a32b59",
   "metadata": {},
   "source": [
    "# 5)- Implementing MLP from Scratch"
   ]
  },
  {
   "attachments": {},
   "cell_type": "markdown",
   "id": "534086a4",
   "metadata": {
    "id": "534086a4"
   },
   "source": [
    "Reference for Writing the code - <br>\n",
    "https://towardsdatascience.com/building-a-neural-network-with-a-single-hidden-layer-using-numpy-923be1180dbf"
   ]
  },
  {
   "cell_type": "code",
   "execution_count": 18,
   "id": "b415cca4",
   "metadata": {
    "id": "b415cca4"
   },
   "outputs": [],
   "source": [
    "class Neural_network():\n",
    "    '''\n",
    "    The MLP class initializes a double hidden-layer perceptron with the given\n",
    "    number of neurons of the hidden layer. It has necessary functions to run the forward pass and backward pass which\n",
    "    can be used to train the MLP model.\n",
    "    '''\n",
    "    \n",
    "    def __init__(self, train_data, train_labels, n_neurons=64):\n",
    "        \n",
    "        # Initialize common variables for the network\n",
    "        self.train_data = train_data\n",
    "        self.train_labels = train_labels\n",
    "        self.n_samples, self.n_features = len(train_data), 512\n",
    "        self.n_classes = train_labels.shape[1]\n",
    "        self.n_neurons = n_neurons\n",
    "        \n",
    "        # Initialize weights and biases for the network\n",
    "        # These weights and baises will be stored in the 'Parameters' dictionary\n",
    "        self.Parameters = dict()\n",
    "        \n",
    "        # Initialize weights and biases for the network\n",
    "        self.Parameters['weights_1'] = np.random.rand(self.n_features, self.n_neurons)/1e3 \n",
    "        self.Parameters['biases_1'] = np.zeros((self.n_neurons))\n",
    "        self.Parameters['weights_2'] = np.random.rand(self.n_neurons, self.n_neurons)/1e3   #random_initalization\n",
    "        self.Parameters['biases_2'] = np.zeros((self.n_neurons))\n",
    "        self.Parameters['weights_3'] = np.random.rand(self.n_neurons, self.n_classes)/1e3\n",
    "        self.Parameters['biases_3'] = np.zeros((self.n_classes))\n",
    "\n",
    "        # Gradients variable will store the Gradients of the Parameters of the network\n",
    "        self.Gradients = dict()\n",
    "        \n",
    "    def relu(self, x):\n",
    "        '''\n",
    "        The ReLU activation function returns max(0, x)\n",
    "        '''\n",
    "        return np.maximum(0, x)\n",
    "\n",
    "    def softmax(self, x):\n",
    "        '''\n",
    "        This function returns the softmax probabilities.\n",
    "        It performs exp() on each value and then divide each value by total of the exps.\n",
    "        '''\n",
    "        return np.exp(x)/np.sum(np.exp(x), axis=1).reshape(len(x), 1)\n",
    "        \n",
    "    def plot_graph(self,accuracy,loss):\n",
    "        fig = plt.figure(figsize=(8, 4))\n",
    "        rows, cols = 1, 2\n",
    "        \n",
    "        fig.add_subplot(rows, cols, 1)\n",
    "        plt.xlabel('epochs')\n",
    "        plt.ylabel('loss')\n",
    "        plt.plot(loss, color='green', linewidth=1)\n",
    "        plt.grid\n",
    "        \n",
    "        fig.add_subplot(rows, cols, 2)\n",
    "        plt.xlabel('epochs')\n",
    "        plt.ylabel('accuracy')\n",
    "        plt.plot(accuracy, color='blue', linewidth=1)\n",
    "        plt.grid\n",
    "        \n",
    "        plt.show()\n",
    "\n",
    "    def cross_entropy_loss(self, pred, truth):\n",
    "        '''\n",
    "        This function calculates softmax cross entropy loss.\n",
    "        '''\n",
    "        loss = -np.sum(truth*np.log(pred))\n",
    "        return loss/len(pred)\n",
    "        \n",
    "    def forwardpass(self, x):\n",
    "        '''\n",
    "        This function performs forward pass on the network with the given input data\n",
    "        '''\n",
    "\n",
    "        self.outputs_1 = np.matmul(x, self.Parameters['weights_1']) + self.Parameters['biases_1']\n",
    "        self.activated_outputs_1 = self.relu(self.outputs_1)\n",
    "        \n",
    "        self.outputs_2 = np.matmul(self.activated_outputs_1, self.Parameters['weights_2']) + self.Parameters['biases_2']\n",
    "        self.activated_outputs_2 = self.relu(self.outputs_2)\n",
    "\n",
    "        self.output_3 = np.matmul(self.activated_outputs_2, self.Parameters['weights_3']) + self.Parameters['biases_3']\n",
    "        self.softmax_outputs = self.softmax(self.output_3)\n",
    "    \n",
    "    def relu_gradient(self, x):\n",
    "        '''\n",
    "        This function returns gradient of the ReLU function.\n",
    "        The gradient of ReLU is 1 if the input is >=0 and 0 otherwise.\n",
    "        '''\n",
    "        \n",
    "        return (x > 0) * 1\n",
    "        \n",
    "    def accuracy(self, pred, truth):\n",
    "        '''\n",
    "        This function calculates accuracy bases on true labels and predicted labels\n",
    "        '''\n",
    "        \n",
    "        return (np.argmax(truth, axis=1) == np.argmax(pred, axis=1)).mean()\n",
    "    \n",
    "    def backwardpass(self, x, y):\n",
    "        '''\n",
    "        This function performs backward pass on the network and calculates Gradients\n",
    "        of the network Parameters i.e. weights and biases.\n",
    "        These Gradients are stored in the dictionary.\n",
    "        '''\n",
    "    \n",
    "        # Calculate Gradients of W3\n",
    "        dL_dO3 = self.softmax_outputs - y \n",
    "        dO3_dW3 = self.activated_outputs_2  \n",
    "        dL_dW3 = np.dot(dO3_dW3.T, dL_dO3)  \n",
    "        self.Gradients['weights_3'] = dL_dW3\n",
    "        # Calculate Gradients of B3\n",
    "        dL_dB3 = np.sum(dL_dO3, axis=0)\n",
    "        self.Gradients['biases_3'] = dL_dB3\n",
    "        \n",
    "        # Calculate Gradients of W2\n",
    "        dO2_dW2 = self.activated_outputs_1  \n",
    "        dL_dZ2 = np.dot(dL_dO3, self.Parameters['weights_3'].T)  \n",
    "        dZ2_dO2 = self.relu_gradient(self.activated_outputs_2) \n",
    "        dL_dO2 = np.multiply(dL_dZ2, dZ2_dO2)  \n",
    "        dL_dW2 = np.dot(dO2_dW2.T, dL_dO2)  \n",
    "        self.Gradients['weights_2'] = dL_dW2\n",
    "        # Calculate Gradients of B2\n",
    "        dL_dB2 = np.sum(dL_dO2, axis=0)\n",
    "        self.Gradients['biases_2'] = dL_dB2\n",
    "\n",
    "        # Calculate Gradients of W1\n",
    "        dO1_dW1 = x  \n",
    "        dL_dZ1 = np.dot(dL_dO2, self.Parameters['weights_2'].T)  \n",
    "        dZ1_dO1 = self.relu_gradient(self.activated_outputs_1)  \n",
    "        dL_dO1 = np.multiply(dL_dZ1, dZ1_dO1) \n",
    "        dL_dW1 = np.dot(dO1_dW1.T, dL_dO1)\n",
    "        self.Gradients['weights_1'] = dL_dW1\n",
    "        # Calculate Gradients of B1\n",
    "        dL_dB1 = np.sum(dL_dO1, axis=0)\n",
    "        self.Gradients['biases_1'] = dL_dB1\n",
    "        \n",
    "        \n",
    "    def train(self, n_epochs=10, batch_size=32, learning_rate=0.01):\n",
    "        '''\n",
    "        This function trains the model with given batch_size and learning_rate\n",
    "        '''\n",
    "        \n",
    "        # Calculate the number of batches\n",
    "        n_batches = int(self.n_samples/batch_size)\n",
    "        \n",
    "        for i in range(n_epochs):\n",
    "            \n",
    "            batch_loss = 0\n",
    "            batch_accuracy = 0\n",
    "            for j in range(n_batches):\n",
    "  \n",
    "                # Getting the train data and labels for the current batch\n",
    "                X_train = self.train_data[j*batch_size:(j+1)*batch_size]\n",
    "                y_train = self.train_labels[j*batch_size:(j+1)*batch_size]\n",
    "                \n",
    "                # Run forward pass on the training data\n",
    "                self.forwardpass(X_train)\n",
    "                # Run backward pass to calculate the Gradients\n",
    "                self.backwardpass(X_train, y_train)\n",
    "                \n",
    "                # Updating the network Parameters using gradient descent, i.e. W_new = W_old - learning_rate * gradient_W\n",
    "                # ALL the Gradients are also normalized by dividing by the batch_size\n",
    "                self.Parameters['weights_1'] -= learning_rate * (self.Gradients['weights_1'] / batch_size)\n",
    "                self.Parameters['biases_1'] -= learning_rate * (self.Gradients['biases_1'] / batch_size)\n",
    "                self.Parameters['weights_2'] -= learning_rate * (self.Gradients['weights_2'] / batch_size)\n",
    "                self.Parameters['biases_2'] -= learning_rate * (self.Gradients['biases_2'] / batch_size)\n",
    "                self.Parameters['weights_3'] -= learning_rate * (self.Gradients['weights_3'] / batch_size)\n",
    "                self.Parameters['biases_3'] -= learning_rate * (self.Gradients['biases_3'] / batch_size)\n",
    "            \n",
    "                # Update total batch_loss and batch_accuracy\n",
    "                batch_loss += self.cross_entropy_loss(self.softmax_outputs, y_train)*batch_size\n",
    "                batch_accuracy += self.accuracy(self.softmax_outputs, y_train)*batch_size  \n",
    "\n",
    "            # Decay learning rate after every 10 epochs\n",
    "            if i+1 > 1 and i+1 % 10 == 0:\n",
    "                learning_rate *= 0.9\n",
    "            \n",
    "            # Divide loss and accuracy by number of samples in the data\n",
    "            loss = batch_loss/(n_batches*batch_size)\n",
    "            acc = batch_accuracy/(n_batches*batch_size)\n",
    "\n",
    "            if i == 0:\n",
    "                loss_Values = loss\n",
    "                acc_Values = acc\n",
    "            else:\n",
    "                loss_Values = np.append(loss_Values, loss)\n",
    "                acc_Values = np.append(acc_Values, acc)\n",
    "            \n",
    "            if i == 0 or (i+1)%10 == 0:\n",
    "                self.print(i,loss,acc)\n",
    "        \n",
    "        # Plot loss and accuracy\n",
    "        self.plot_graph(acc_Values,loss_Values)\n",
    "\n",
    "    \n",
    "    def print(self,i,loss,acc):\n",
    "        print(f'Epoch {i+1}: Loss = {loss:.4f}, Accuracy = {acc*100:.4f}')\n",
    "\n",
    "\n",
    "    def test(self, x, y):\n",
    "        '''\n",
    "        This function can be used to run the model on a test data set.\n",
    "        It provides the loss and accuracy reported on the test data.\n",
    "        '''\n",
    "\n",
    "        # Run forward pass on the data\n",
    "        self.forwardpass(x)\n",
    "\n",
    "        # # Calculate loss and accuracy\n",
    "        acc = self.accuracy(self.softmax_outputs, y)\n",
    "\n",
    "        return acc"
   ]
  },
  {
   "attachments": {},
   "cell_type": "markdown",
   "id": "819bb958",
   "metadata": {},
   "source": [
    "# 6) - Training the MLP model on both augmneted and unaugmneted data"
   ]
  },
  {
   "attachments": {},
   "cell_type": "markdown",
   "id": "da88f61c",
   "metadata": {
    "id": "da88f61c"
   },
   "source": [
    "Shuffling the data and creating a object of class Neural netowrk "
   ]
  },
  {
   "cell_type": "code",
   "execution_count": 56,
   "id": "b56c440f",
   "metadata": {
    "colab": {
     "base_uri": "https://localhost:8080/",
     "height": 474
    },
    "id": "b56c440f",
    "outputId": "fd8771f3-b491-4df3-f030-5d3858444a40"
   },
   "outputs": [
    {
     "name": "stdout",
     "output_type": "stream",
     "text": [
      "Training on Un-augmented Data...\n",
      "Epoch 1: Loss = 2.3026, Accuracy = 9.8191\n",
      "Epoch 10: Loss = 1.9190, Accuracy = 21.2388\n",
      "Epoch 20: Loss = 1.5483, Accuracy = 33.4347\n",
      "Epoch 30: Loss = 0.9602, Accuracy = 67.6837\n",
      "Epoch 40: Loss = 0.6806, Accuracy = 76.4465\n",
      "Epoch 50: Loss = 0.5923, Accuracy = 79.4094\n",
      "Epoch 60: Loss = 0.5477, Accuracy = 80.9879\n",
      "Epoch 70: Loss = 0.5170, Accuracy = 82.0062\n",
      "Epoch 80: Loss = 0.4902, Accuracy = 82.9125\n",
      "Epoch 90: Loss = 0.4663, Accuracy = 83.6868\n",
      "Epoch 100: Loss = 0.4438, Accuracy = 84.5230\n"
     ]
    },
    {
     "data": {
      "image/png": "[encoded data removed]",
      "text/plain": [
       "<Figure size 576x288 with 2 Axes>"
      ]
     },
     "metadata": {
      "needs_background": "light"
     },
     "output_type": "display_data"
    },
    {
     "name": "stdout",
     "output_type": "stream",
     "text": [
      "Training on augmented Data...\n",
      "Epoch 1: Loss = 2.3026, Accuracy = 9.8772\n",
      "Epoch 10: Loss = 1.7195, Accuracy = 27.5458\n",
      "Epoch 20: Loss = 0.9122, Accuracy = 67.7987\n",
      "Epoch 30: Loss = 0.7312, Accuracy = 74.1367\n",
      "Epoch 40: Loss = 0.6698, Accuracy = 76.1264\n",
      "Epoch 50: Loss = 0.6261, Accuracy = 77.6298\n",
      "Epoch 60: Loss = 0.5910, Accuracy = 78.8142\n",
      "Epoch 70: Loss = 0.5620, Accuracy = 79.9076\n",
      "Epoch 80: Loss = 0.5375, Accuracy = 80.8479\n",
      "Epoch 90: Loss = 0.5162, Accuracy = 81.6381\n",
      "Epoch 100: Loss = 0.4975, Accuracy = 82.2943\n"
     ]
    },
    {
     "data": {
      "image/png": "[encoded data removed]",
      "text/plain": [
       "<Figure size 576x288 with 2 Axes>"
      ]
     },
     "metadata": {
      "needs_background": "light"
     },
     "output_type": "display_data"
    }
   ],
   "source": [
    "# Shuffle the unaugmented training data\n",
    "index = np.random.permutation(len(unaugmented_train_data_features))\n",
    "shuffled_unaugmented_train_data_features, shuffled_unaugmented_train_labels = unaugmented_train_data_features[index], one_hot_encode(unaugmented_train_labels[index],10)\n",
    "# Shuffle the augmented training data\n",
    "index = np.random.permutation(len(augmented_train_data_features))\n",
    "shuffled_augmented_train_data_features, shuffled_augmented_train_labels = augmented_train_data_features[index], one_hot_encode(augmented_train_labels[index],10)\n",
    "\n",
    "# Create an object for the unaugmented training data\n",
    "unaugmented_net = Neural_network(shuffled_unaugmented_train_data_features, shuffled_unaugmented_train_labels)\n",
    "\n",
    "# Create an object for the augmented training data\n",
    "augmented_net = Neural_network(shuffled_augmented_train_data_features, shuffled_augmented_train_labels)\n",
    "\n",
    "print('Training on Un-augmented Data...')\n",
    "unaugmented_net.train(n_epochs=100, batch_size=64, learning_rate=0.01)\n",
    "\n",
    "# Train the model on augmented data save model parameters\n",
    "print('Training on augmented Data...')\n",
    "augmented_net.train(n_epochs=100, batch_size=64, learning_rate=0.01)"
   ]
  },
  {
   "attachments": {},
   "cell_type": "markdown",
   "id": "1P2cLoh3YQgs",
   "metadata": {
    "id": "1P2cLoh3YQgs"
   },
   "source": [
    "## 7)  Implementaion of Various Classification algorithm"
   ]
  },
  {
   "cell_type": "code",
   "execution_count": 22,
   "id": "3de5b623",
   "metadata": {
    "colab": {
     "base_uri": "https://localhost:8080/"
    },
    "id": "3de5b623",
    "outputId": "76bbd9b5-7c55-43d1-dd25-62fc5f2cfdcf"
   },
   "outputs": [
    {
     "name": "stdout",
     "output_type": "stream",
     "text": [
      "Accuracy of unaugmented test data on unaugmented train data 79.5 %\n",
      "Accuracy of augmented test data on unaugmented train data 71.34 %\n",
      "Accuracy of unaugmented test data on augmented train data 79.41 %\n",
      "Accuracy of augmented test data on augmented train data 73.745 %\n"
     ]
    }
   ],
   "source": [
    "# Test both the trained models on test data features\n",
    "u_accuracy_unaugument_test = unaugmented_net.test(unaugmented_test_data_features, one_hot_encode(unaugmented_test_labels,10))\n",
    "print('Accuracy of unaugmented test data on unaugmented train data',u_accuracy_unaugument_test*100,'%')\n",
    "\n",
    "u_accuracy_augument_test = unaugmented_net.test(augmented_test_data_features, one_hot_encode(augmented_test_labels,10))\n",
    "print('Accuracy of augmented test data on unaugmented train data',u_accuracy_augument_test*100,'%')\n",
    "\n",
    "a_accuracy_unaugument_test = augmented_net.test(unaugmented_test_data_features,one_hot_encode(unaugmented_test_labels,10))\n",
    "print('Accuracy of unaugmented test data on augmented train data',a_accuracy_unaugument_test*100,'%')\n",
    "\n",
    "a_accuracy_augument_test = augmented_net.test(augmented_test_data_features,one_hot_encode(augmented_test_labels,10))\n",
    "print('Accuracy of augmented test data on augmented train data',a_accuracy_augument_test*100,'%')"
   ]
  },
  {
   "cell_type": "code",
   "execution_count": 29,
   "id": "4b4487dc",
   "metadata": {},
   "outputs": [
    {
     "name": "stdout",
     "output_type": "stream",
     "text": [
      "Accuracy of unaugmented test data on unaugmented train data 77.8 %\n",
      "Accuracy of augmented test data on unaugmented train data 69.985 %\n",
      "Accuracy of unaugmented test data on augmented train data 75.61 %\n",
      "Accuracy of augmented test data on augmented train data 69.695 %\n"
     ]
    }
   ],
   "source": [
    "from sklearn import svm\n",
    "from sklearn.metrics import accuracy_score\n",
    "clf = svm.LinearSVC() \n",
    "\n",
    "clf.fit(unaugmented_train_data_features,unaugmented_train_labels)\n",
    "\n",
    "predictions = clf.predict(unaugmented_test_data_features)\n",
    "u_accuracy_unaugument_svm = accuracy_score(unaugmented_test_labels, predictions)\n",
    "print('Accuracy of unaugmented test data on unaugmented train data', u_accuracy_unaugument_svm*100,'%')\n",
    "predictions = clf.predict(augmented_test_data_features)\n",
    "u_accuracy_augument_svm = accuracy_score(augmented_test_labels, predictions)\n",
    "print('Accuracy of augmented test data on unaugmented train data', u_accuracy_augument_svm*100,'%')\n",
    "\n",
    "clf.fit(augmented_train_data_features,augmented_train_labels)\n",
    "\n",
    "predictions = clf.predict(unaugmented_test_data_features)\n",
    "a_accuracy_unaugument_svm = accuracy_score(unaugmented_test_labels, predictions)\n",
    "print('Accuracy of unaugmented test data on augmented train data', a_accuracy_unaugument_svm*100,'%')\n",
    "predictions = clf.predict(augmented_test_data_features)\n",
    "a_accuracy_augument_svm = accuracy_score(augmented_test_labels, predictions)\n",
    "print('Accuracy of augmented test data on augmented train data', a_accuracy_augument_svm*100,'%')"
   ]
  },
  {
   "cell_type": "code",
   "execution_count": 32,
   "id": "bdedfe54",
   "metadata": {},
   "outputs": [
    {
     "name": "stdout",
     "output_type": "stream",
     "text": [
      "Accuracy of unaugmented test data on unaugmented train data 78.86 %\n",
      "Accuracy of augmented test data on unaugmented train data 71.015 %\n",
      "Accuracy of unaugmented test data on augmented train data 78.92 %\n",
      "Accuracy of augmented test data on augmented train data 72.885 %\n"
     ]
    }
   ],
   "source": [
    "from sklearn.linear_model import LogisticRegression\n",
    "from sklearn.metrics import accuracy_score\n",
    "clf = LogisticRegression(random_state=42,multi_class='ovr',max_iter = 1000)\n",
    "\n",
    "clf.fit(unaugmented_train_data_features,unaugmented_train_labels)\n",
    "\n",
    "predictions = clf.predict(unaugmented_test_data_features)\n",
    "u_accuracy_unaugument_lr = accuracy_score(unaugmented_test_labels, predictions)\n",
    "print('Accuracy of unaugmented test data on unaugmented train data', u_accuracy_unaugument_lr*100,'%')\n",
    "predictions = clf.predict(augmented_test_data_features)\n",
    "u_accuracy_augument_lr = accuracy_score(augmented_test_labels, predictions)\n",
    "print('Accuracy of augmented test data on unaugmented train data', u_accuracy_augument_lr*100,'%')\n",
    "\n",
    "clf.fit(augmented_train_data_features,augmented_train_labels)\n",
    "\n",
    "predictions = clf.predict(unaugmented_test_data_features)\n",
    "a_accuracy_unaugument_lr = accuracy_score(unaugmented_test_labels, predictions)\n",
    "print('Accuracy of unaugmented test data on augmented train data', a_accuracy_unaugument_lr*100,'%')\n",
    "predictions = clf.predict(augmented_test_data_features)\n",
    "a_accuracy_augument_lr = accuracy_score(augmented_test_labels, predictions)\n",
    "print('Accuracy of augmented test data on augmented train data', a_accuracy_augument_lr*100,'%')"
   ]
  },
  {
   "cell_type": "code",
   "execution_count": 35,
   "id": "25de8b77",
   "metadata": {},
   "outputs": [
    {
     "name": "stdout",
     "output_type": "stream",
     "text": [
      "Accuracy of unaugmented test data on unaugmented train data 68.95 %\n",
      "Accuracy of augmented test data on unaugmented train data 61.970000000000006 %\n",
      "Accuracy of unaugmented test data on augmented train data 67.55 %\n",
      "Accuracy of augmented test data on augmented train data 61.99 %\n"
     ]
    }
   ],
   "source": [
    "from sklearn.neighbors import KNeighborsClassifier\n",
    "from sklearn.metrics import accuracy_score\n",
    "clf = KNeighborsClassifier()\n",
    "\n",
    "clf.fit(unaugmented_train_data_features,unaugmented_train_labels)\n",
    "\n",
    "predictions = clf.predict(unaugmented_test_data_features)\n",
    "u_accuracy_unaugument_knn = accuracy_score(unaugmented_test_labels, predictions)\n",
    "print('Accuracy of unaugmented test data on unaugmented train data', u_accuracy_unaugument_knn*100,'%')\n",
    "predictions = clf.predict(augmented_test_data_features)\n",
    "u_accuracy_augument_knn = accuracy_score(augmented_test_labels, predictions)\n",
    "print('Accuracy of augmented test data on unaugmented train data', u_accuracy_augument_knn*100,'%')\n",
    "\n",
    "clf.fit(augmented_train_data_features,augmented_train_labels)\n",
    "\n",
    "predictions = clf.predict(unaugmented_test_data_features)\n",
    "a_accuracy_unaugument_knn = accuracy_score(unaugmented_test_labels, predictions)\n",
    "print('Accuracy of unaugmented test data on augmented train data', a_accuracy_unaugument_knn*100,'%')\n",
    "predictions = clf.predict(augmented_test_data_features)\n",
    "a_accuracy_augument_knn = accuracy_score(augmented_test_labels, predictions)\n",
    "print('Accuracy of augmented test data on augmented train data', a_accuracy_augument_knn*100,'%')"
   ]
  },
  {
   "cell_type": "code",
   "execution_count": 36,
   "id": "46ec8913",
   "metadata": {},
   "outputs": [
    {
     "name": "stdout",
     "output_type": "stream",
     "text": [
      "Accuracy of unaugmented test data on unaugmented train data 48.42 %\n",
      "Accuracy of augmented test data on unaugmented train data 43.555 %\n",
      "Accuracy of unaugmented test data on augmented train data 48.9 %\n",
      "Accuracy of augmented test data on augmented train data 44.61 %\n"
     ]
    }
   ],
   "source": [
    "from sklearn.tree import DecisionTreeClassifier\n",
    "from sklearn.metrics import accuracy_score\n",
    "clf = DecisionTreeClassifier(max_depth =12, random_state = 42)\n",
    "\n",
    "clf.fit(unaugmented_train_data_features,unaugmented_train_labels)\n",
    "\n",
    "predictions = clf.predict(unaugmented_test_data_features)\n",
    "u_accuracy_unaugument_dt = accuracy_score(unaugmented_test_labels, predictions)\n",
    "print('Accuracy of unaugmented test data on unaugmented train data', u_accuracy_unaugument_dt*100,'%')\n",
    "predictions = clf.predict(augmented_test_data_features)\n",
    "u_accuracy_augument_dt = accuracy_score(augmented_test_labels, predictions)\n",
    "print('Accuracy of augmented test data on unaugmented train data', u_accuracy_augument_dt*100,'%')\n",
    "\n",
    "clf.fit(augmented_train_data_features,augmented_train_labels)\n",
    "\n",
    "predictions = clf.predict(unaugmented_test_data_features)\n",
    "a_accuracy_unaugument_dt = accuracy_score(unaugmented_test_labels, predictions)\n",
    "print('Accuracy of unaugmented test data on augmented train data', a_accuracy_unaugument_dt*100,'%')\n",
    "predictions = clf.predict(augmented_test_data_features)\n",
    "a_accuracy_augument_dt = accuracy_score(augmented_test_labels, predictions)\n",
    "print('Accuracy of augmented test data on augmented train data', a_accuracy_augument_dt*100,'%')"
   ]
  },
  {
   "attachments": {},
   "cell_type": "markdown",
   "id": "e9e5ee04",
   "metadata": {},
   "source": [
    "# 8)- The performance of the above four classifier and the following trained MLP models on both the original (unaugmented) test set and augmented test set"
   ]
  },
  {
   "cell_type": "code",
   "execution_count": 38,
   "id": "9ebfe2d5",
   "metadata": {},
   "outputs": [
    {
     "data": {
      "image/png": "[encoded data removed]",
      "text/plain": [
       "<Figure size 720x360 with 1 Axes>"
      ]
     },
     "metadata": {
      "needs_background": "light"
     },
     "output_type": "display_data"
    },
    {
     "data": {
      "image/png": "[encoded data removed]",
      "text/plain": [
       "<Figure size 720x360 with 1 Axes>"
      ]
     },
     "metadata": {
      "needs_background": "light"
     },
     "output_type": "display_data"
    },
    {
     "data": {
      "image/png": "[encoded data removed]",
      "text/plain": [
       "<Figure size 720x360 with 1 Axes>"
      ]
     },
     "metadata": {
      "needs_background": "light"
     },
     "output_type": "display_data"
    },
    {
     "data": {
      "image/png": "[encoded data removed]",
      "text/plain": [
       "<Figure size 720x360 with 1 Axes>"
      ]
     },
     "metadata": {
      "needs_background": "light"
     },
     "output_type": "display_data"
    }
   ],
   "source": [
    "classfiers = ['SVM','KNN','Logistic Regression','Decision Tree','MLP']\n",
    "\n",
    "Accuracy = [a_accuracy_unaugument_svm,a_accuracy_unaugument_knn,a_accuracy_unaugument_lr,a_accuracy_unaugument_dt,a_accuracy_unaugument_test]\n",
    "fig = plt.figure(figsize = (10, 5))\n",
    "plt.bar(classfiers, Accuracy, color ='blue',width = 0.4)\n",
    "plt.xlabel(\"Classifiers\")\n",
    "plt.ylabel(\"Accuracy\")\n",
    "plt.title(\"Accuracy of unaugmented test data on augmented train data\")\n",
    "plt.show()\n",
    "\n",
    "\n",
    "Accuracy = [u_accuracy_unaugument_svm,u_accuracy_unaugument_knn,u_accuracy_unaugument_lr,u_accuracy_unaugument_dt,a_accuracy_unaugument_test]\n",
    "fig = plt.figure(figsize = (10, 5))\n",
    "plt.bar(classfiers, Accuracy, color ='red',width = 0.4)\n",
    "plt.xlabel(\"Classifiers\")\n",
    "plt.ylabel(\"Accuracy\")\n",
    "plt.title(\"Accuracy of unaugmented test data on unaugmented train data\")\n",
    "plt.show()\n",
    "\n",
    "\n",
    "Accuracy = [a_accuracy_augument_svm,a_accuracy_augument_knn,a_accuracy_augument_lr,a_accuracy_augument_dt,a_accuracy_augument_test]\n",
    "fig = plt.figure(figsize = (10, 5))\n",
    "plt.bar(classfiers, Accuracy, color ='yellow',width = 0.4)\n",
    "plt.xlabel(\"Classifiers\")\n",
    "plt.ylabel(\"Accuracy\")\n",
    "plt.title(\"Accuracy of augmented test data on augmented train data\")\n",
    "plt.show()\n",
    "\n",
    "\n",
    "Accuracy = [u_accuracy_augument_svm,u_accuracy_augument_knn,u_accuracy_augument_lr,u_accuracy_augument_dt,u_accuracy_augument_test]\n",
    "fig = plt.figure(figsize = (10, 5))\n",
    "plt.bar(classfiers, Accuracy, color ='green',width = 0.4)\n",
    "plt.xlabel(\"Classifiers\")\n",
    "plt.ylabel(\"Accuracy\")\n",
    "plt.title(\"Accuracy of augmented test data on unaugmented train data\")\n",
    "plt.show()\n"
   ]
  }
 ],
 "metadata": {
  "accelerator": "GPU",
  "colab": {
   "collapsed_sections": [
    "b60eb79a"
   ],
   "name": "21111408.ipynb",
   "provenance": []
  },
  "kernelspec": {
   "display_name": "base",
   "language": "python",
   "name": "python3"
  },
  "language_info": {
   "codemirror_mode": {
    "name": "ipython",
    "version": 3
   },
   "file_extension": ".py",
   "mimetype": "text/x-python",
   "name": "python",
   "nbconvert_exporter": "python",
   "pygments_lexer": "ipython3",
   "version": "3.9.7"
  },
  "vscode": {
   "interpreter": {
    "hash": "631af202ec7c40e141c49d63cac6c8cb664469fed6e4d5ddc6436b49edc60500"
   }
  }
 },
 "nbformat": 4,
 "nbformat_minor": 5
}
